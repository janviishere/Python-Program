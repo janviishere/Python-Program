{
  "nbformat": 4,
  "nbformat_minor": 0,
  "metadata": {
    "colab": {
      "provenance": [],
      "authorship_tag": "ABX9TyM7JeGHKufgGoJl7IVUILWY",
      "include_colab_link": true
    },
    "kernelspec": {
      "name": "python3",
      "display_name": "Python 3"
    },
    "language_info": {
      "name": "python"
    }
  },
  "cells": [
    {
      "cell_type": "markdown",
      "metadata": {
        "id": "view-in-github",
        "colab_type": "text"
      },
      "source": [
        "<a href=\"https://colab.research.google.com/github/janviishere/Python-Program/blob/main/python_workshop(day_1).ipynb\" target=\"_parent\"><img src=\"https://colab.research.google.com/assets/colab-badge.svg\" alt=\"Open In Colab\"/></a>"
      ]
    },
    {
      "cell_type": "code",
      "execution_count": null,
      "metadata": {
        "id": "Xix6TeCwzdv0"
      },
      "outputs": [],
      "source": [
        "import numpy as np"
      ]
    },
    {
      "cell_type": "code",
      "source": [
        "array = np.array([1,2,3,4,5,6,7,8,9])"
      ],
      "metadata": {
        "id": "ab9RQlxUAEgS"
      },
      "execution_count": null,
      "outputs": []
    },
    {
      "cell_type": "code",
      "source": [
        "print(\"My array:\", array)\n",
        "print(\"Type of array:\", type(array))\n",
        "print(\"No of dimensions:\",  array.ndim)\n",
        "print(\"Array Dimensions:\", array.shape)\n",
        "print(\"No of elements in array:\", array.size)"
      ],
      "metadata": {
        "colab": {
          "base_uri": "https://localhost:8080/"
        },
        "id": "CVN6dDnHAQHw",
        "outputId": "42f30c1e-8606-4e0e-d38c-db48c1c1a832"
      },
      "execution_count": null,
      "outputs": [
        {
          "output_type": "stream",
          "name": "stdout",
          "text": [
            "My array: [1 2 3 4 5 6 7 8 9]\n",
            "Type of array: <class 'numpy.ndarray'>\n",
            "No of dimensions: 1\n",
            "Array Dimensions: (9,)\n",
            "No of elements in array: 9\n"
          ]
        }
      ]
    },
    {
      "cell_type": "code",
      "source": [
        "array2 = np.array([[\"janvi\",18],[\"gupta\",19]])"
      ],
      "metadata": {
        "id": "hh0FCeB1FrbY"
      },
      "execution_count": null,
      "outputs": []
    },
    {
      "cell_type": "code",
      "source": [
        "print(\"My array:\", array2)\n",
        "print(\"Type of array:\", type(array2))\n",
        "print(\"No of dimensions:\",  array2.ndim)\n",
        "print(\"Array Dimensions:\", array2.shape)\n",
        "print(\"No of elements in array:\", array2.size)"
      ],
      "metadata": {
        "colab": {
          "base_uri": "https://localhost:8080/"
        },
        "id": "S9ethuy3HUd-",
        "outputId": "832dc283-a66e-4174-c604-2df791afc9b1"
      },
      "execution_count": null,
      "outputs": [
        {
          "output_type": "stream",
          "name": "stdout",
          "text": [
            "My array: [['janvi' '18']\n",
            " ['gupta' '19']]\n",
            "Type of array: <class 'numpy.ndarray'>\n",
            "No of dimensions: 2\n",
            "Array Dimensions: (2, 2)\n",
            "No of elements in array: 4\n"
          ]
        }
      ]
    },
    {
      "cell_type": "code",
      "source": [
        "l = [1,2,3,4,5,6,7,8,9]\n",
        "array3 = np.array(l)"
      ],
      "metadata": {
        "id": "oaDDlZ_fI2r1"
      },
      "execution_count": null,
      "outputs": []
    },
    {
      "cell_type": "code",
      "source": [
        "print(\"My array:\", array3)\n",
        "print(\"Type of array:\", type(array3))\n",
        "print(\"No of dimensions:\",  array3.ndim)\n",
        "print(\"Array Dimensions:\", array3.shape)\n",
        "print(\"No of elements in array:\", array3.size)"
      ],
      "metadata": {
        "colab": {
          "base_uri": "https://localhost:8080/"
        },
        "id": "EYuy06uxJIdl",
        "outputId": "febc6960-7f56-4ab7-f852-8eec40d201aa"
      },
      "execution_count": null,
      "outputs": [
        {
          "output_type": "stream",
          "name": "stdout",
          "text": [
            "My array: [1 2 3 4 5 6 7 8 9]\n",
            "Type of array: <class 'numpy.ndarray'>\n",
            "No of dimensions: 1\n",
            "Array Dimensions: (9,)\n",
            "No of elements in array: 9\n"
          ]
        }
      ]
    },
    {
      "cell_type": "code",
      "source": [
        "m = (1,2,3,4,5,6,7,8,9)\n",
        "array4 = np.array(m)"
      ],
      "metadata": {
        "id": "6IAoQJedJ3Cn"
      },
      "execution_count": null,
      "outputs": []
    },
    {
      "cell_type": "code",
      "source": [
        "print(\"My array:\", array4)\n",
        "print(\"Type of array:\", type(array4))\n",
        "print(\"No of dimensions:\",  array4.ndim)\n",
        "print(\"Array Dimensions:\", array4.shape)\n",
        "print(\"No of elements in array:\", array4.size)"
      ],
      "metadata": {
        "colab": {
          "base_uri": "https://localhost:8080/"
        },
        "id": "t8OUuPUNJ-d2",
        "outputId": "208a43cc-cf2e-445b-dcbc-257d306dc57d"
      },
      "execution_count": null,
      "outputs": [
        {
          "output_type": "stream",
          "name": "stdout",
          "text": [
            "My array: [1 2 3 4 5 6 7 8 9]\n",
            "Type of array: <class 'numpy.ndarray'>\n",
            "No of dimensions: 1\n",
            "Array Dimensions: (9,)\n",
            "No of elements in array: 9\n"
          ]
        }
      ]
    },
    {
      "cell_type": "markdown",
      "source": [
        "arange\n"
      ],
      "metadata": {
        "id": "fB8DciNJKTXi"
      }
    },
    {
      "cell_type": "code",
      "source": [
        "arr_1 = np.arange(0,20)\n",
        "print(arr_1)"
      ],
      "metadata": {
        "colab": {
          "base_uri": "https://localhost:8080/"
        },
        "id": "O3Myg2FmKWg0",
        "outputId": "fe01d0cf-a511-4161-ee21-be0e026b0f3a"
      },
      "execution_count": null,
      "outputs": [
        {
          "output_type": "stream",
          "name": "stdout",
          "text": [
            "[ 0  1  2  3  4  5  6  7  8  9 10 11 12 13 14 15 16 17 18 19]\n"
          ]
        }
      ]
    },
    {
      "cell_type": "code",
      "source": [
        "arr_2 = np.arange(0,20,2)\n",
        "print(arr_2)"
      ],
      "metadata": {
        "colab": {
          "base_uri": "https://localhost:8080/"
        },
        "id": "HWsubYA5Kov0",
        "outputId": "003eccbd-7235-49b0-a653-054657bdd5c5"
      },
      "execution_count": null,
      "outputs": [
        {
          "output_type": "stream",
          "name": "stdout",
          "text": [
            "[ 0  2  4  6  8 10 12 14 16 18]\n"
          ]
        }
      ]
    },
    {
      "cell_type": "code",
      "source": [
        "arr_3 = np.arange(0,20,4)\n",
        "print(arr_3)"
      ],
      "metadata": {
        "colab": {
          "base_uri": "https://localhost:8080/"
        },
        "id": "vwM6TyJgKtDj",
        "outputId": "79b84505-f35b-4a6c-a148-d63613195ac2"
      },
      "execution_count": null,
      "outputs": [
        {
          "output_type": "stream",
          "name": "stdout",
          "text": [
            "[ 0  4  8 12 16]\n"
          ]
        }
      ]
    },
    {
      "cell_type": "code",
      "source": [
        "arr_4 = np.arange(4,20,5)\n",
        "print(arr_4)"
      ],
      "metadata": {
        "colab": {
          "base_uri": "https://localhost:8080/"
        },
        "id": "yR6eZnkmKwX4",
        "outputId": "71806a9a-d052-4acd-f8e3-dec743b1c3ab"
      },
      "execution_count": null,
      "outputs": [
        {
          "output_type": "stream",
          "name": "stdout",
          "text": [
            "[ 4  9 14 19]\n"
          ]
        }
      ]
    },
    {
      "cell_type": "code",
      "source": [
        "arr_5 = np.arange(20)\n",
        "print(arr_5)"
      ],
      "metadata": {
        "colab": {
          "base_uri": "https://localhost:8080/"
        },
        "id": "CMXzb5J6K16w",
        "outputId": "72fdf0dd-0792-4b1f-de6c-6ddf5cd22a66"
      },
      "execution_count": null,
      "outputs": [
        {
          "output_type": "stream",
          "name": "stdout",
          "text": [
            "[ 0  1  2  3  4  5  6  7  8  9 10 11 12 13 14 15 16 17 18 19]\n"
          ]
        }
      ]
    },
    {
      "cell_type": "markdown",
      "source": [
        "    linspace()"
      ],
      "metadata": {
        "id": "db-HcHetM4lN"
      }
    },
    {
      "cell_type": "code",
      "source": [
        "arr_1 = np.linspace(0,20)\n",
        "print(arr_1)\n",
        "print(arr_1.size)"
      ],
      "metadata": {
        "colab": {
          "base_uri": "https://localhost:8080/"
        },
        "id": "2-vCf2SFM8C0",
        "outputId": "79d52620-c521-4be7-c047-f90f8d1dfe78"
      },
      "execution_count": null,
      "outputs": [
        {
          "output_type": "stream",
          "name": "stdout",
          "text": [
            "[ 0.          0.40816327  0.81632653  1.2244898   1.63265306  2.04081633\n",
            "  2.44897959  2.85714286  3.26530612  3.67346939  4.08163265  4.48979592\n",
            "  4.89795918  5.30612245  5.71428571  6.12244898  6.53061224  6.93877551\n",
            "  7.34693878  7.75510204  8.16326531  8.57142857  8.97959184  9.3877551\n",
            "  9.79591837 10.20408163 10.6122449  11.02040816 11.42857143 11.83673469\n",
            " 12.24489796 12.65306122 13.06122449 13.46938776 13.87755102 14.28571429\n",
            " 14.69387755 15.10204082 15.51020408 15.91836735 16.32653061 16.73469388\n",
            " 17.14285714 17.55102041 17.95918367 18.36734694 18.7755102  19.18367347\n",
            " 19.59183673 20.        ]\n",
            "50\n"
          ]
        }
      ]
    },
    {
      "cell_type": "code",
      "source": [
        "arr_2 = np.linspace(0,20,2)\n",
        "print(arr_2)"
      ],
      "metadata": {
        "colab": {
          "base_uri": "https://localhost:8080/"
        },
        "id": "puMwZPVlNV9P",
        "outputId": "640ec749-32b4-4386-f5ce-9cca91c41b0e"
      },
      "execution_count": null,
      "outputs": [
        {
          "output_type": "stream",
          "name": "stdout",
          "text": [
            "[ 0. 20.]\n"
          ]
        }
      ]
    },
    {
      "cell_type": "code",
      "source": [
        "arr_3 = np.linspace(0,20,6)\n",
        "print(arr_3)"
      ],
      "metadata": {
        "colab": {
          "base_uri": "https://localhost:8080/"
        },
        "id": "i742uVjxNfBz",
        "outputId": "97ef5e82-3022-47a2-adcd-80f131368474"
      },
      "execution_count": null,
      "outputs": [
        {
          "output_type": "stream",
          "name": "stdout",
          "text": [
            "[ 0.  4.  8. 12. 16. 20.]\n"
          ]
        }
      ]
    },
    {
      "cell_type": "code",
      "source": [
        "arr_4 = np.linspace(10,20,50)\n",
        "print(arr_4)"
      ],
      "metadata": {
        "colab": {
          "base_uri": "https://localhost:8080/"
        },
        "id": "ShmX2SI6NyM0",
        "outputId": "a4bffca3-a306-49ab-fde1-968b262debeb"
      },
      "execution_count": null,
      "outputs": [
        {
          "output_type": "stream",
          "name": "stdout",
          "text": [
            "[10.         10.20408163 10.40816327 10.6122449  10.81632653 11.02040816\n",
            " 11.2244898  11.42857143 11.63265306 11.83673469 12.04081633 12.24489796\n",
            " 12.44897959 12.65306122 12.85714286 13.06122449 13.26530612 13.46938776\n",
            " 13.67346939 13.87755102 14.08163265 14.28571429 14.48979592 14.69387755\n",
            " 14.89795918 15.10204082 15.30612245 15.51020408 15.71428571 15.91836735\n",
            " 16.12244898 16.32653061 16.53061224 16.73469388 16.93877551 17.14285714\n",
            " 17.34693878 17.55102041 17.75510204 17.95918367 18.16326531 18.36734694\n",
            " 18.57142857 18.7755102  18.97959184 19.18367347 19.3877551  19.59183673\n",
            " 19.79591837 20.        ]\n"
          ]
        }
      ]
    },
    {
      "cell_type": "code",
      "source": [
        "arr_5 = np.linspace(1,20)\n",
        "print(arr_5)"
      ],
      "metadata": {
        "colab": {
          "base_uri": "https://localhost:8080/"
        },
        "id": "vUY5KYD_N6K_",
        "outputId": "812bd9d5-6015-4263-cff6-6007ac29bcde"
      },
      "execution_count": null,
      "outputs": [
        {
          "output_type": "stream",
          "name": "stdout",
          "text": [
            "[ 1.          1.3877551   1.7755102   2.16326531  2.55102041  2.93877551\n",
            "  3.32653061  3.71428571  4.10204082  4.48979592  4.87755102  5.26530612\n",
            "  5.65306122  6.04081633  6.42857143  6.81632653  7.20408163  7.59183673\n",
            "  7.97959184  8.36734694  8.75510204  9.14285714  9.53061224  9.91836735\n",
            " 10.30612245 10.69387755 11.08163265 11.46938776 11.85714286 12.24489796\n",
            " 12.63265306 13.02040816 13.40816327 13.79591837 14.18367347 14.57142857\n",
            " 14.95918367 15.34693878 15.73469388 16.12244898 16.51020408 16.89795918\n",
            " 17.28571429 17.67346939 18.06122449 18.44897959 18.83673469 19.2244898\n",
            " 19.6122449  20.        ]\n"
          ]
        }
      ]
    },
    {
      "cell_type": "markdown",
      "source": [
        "Zeros()\n"
      ],
      "metadata": {
        "id": "8f7EOBtHd8mx"
      }
    },
    {
      "cell_type": "code",
      "source": [
        "arr_1 = np.zeros((3,3))\n",
        "print(arr_1)\n",
        "print(\"shape of array\", arr_1.shape)"
      ],
      "metadata": {
        "colab": {
          "base_uri": "https://localhost:8080/"
        },
        "id": "6bvSCd0ed-xL",
        "outputId": "47ed9fdf-b4a6-49a1-8da5-d88e630ae231"
      },
      "execution_count": null,
      "outputs": [
        {
          "output_type": "stream",
          "name": "stdout",
          "text": [
            "[[0. 0. 0.]\n",
            " [0. 0. 0.]\n",
            " [0. 0. 0.]]\n",
            "shape of array (3, 3)\n"
          ]
        }
      ]
    },
    {
      "cell_type": "code",
      "source": [
        "arr_2 = np.zeros(20)\n",
        "print(arr_2)\n",
        "print(\"shape of array\", arr_2.shape)"
      ],
      "metadata": {
        "colab": {
          "base_uri": "https://localhost:8080/"
        },
        "id": "JIJrIGrNeTj0",
        "outputId": "7479226d-0ad4-43e7-ff31-189db5e4d127"
      },
      "execution_count": null,
      "outputs": [
        {
          "output_type": "stream",
          "name": "stdout",
          "text": [
            "[0. 0. 0. 0. 0. 0. 0. 0. 0. 0. 0. 0. 0. 0. 0. 0. 0. 0. 0. 0.]\n",
            "shape of array (20,)\n"
          ]
        }
      ]
    },
    {
      "cell_type": "code",
      "source": [
        "#arr_3 = np.zeros(3,5)\n",
        "print(arr_3)\n",
        "print(\"shape of array\", arr_3.shape)"
      ],
      "metadata": {
        "colab": {
          "base_uri": "https://localhost:8080/"
        },
        "id": "FYRQEP24eaw8",
        "outputId": "ca8bba3b-ba1a-4dd3-e4a6-59472a3a4627"
      },
      "execution_count": null,
      "outputs": [
        {
          "output_type": "stream",
          "name": "stdout",
          "text": [
            "[[0. 0. 0. 0. 0.]\n",
            " [0. 0. 0. 0. 0.]\n",
            " [0. 0. 0. 0. 0.]]\n",
            "shape of array (3, 5)\n"
          ]
        }
      ]
    },
    {
      "cell_type": "code",
      "source": [
        "arr_4 = np.zeros((3,3), dtype=int)\n",
        "print(arr_4)\n",
        "print(\"shape of array\", arr_4.shape)"
      ],
      "metadata": {
        "colab": {
          "base_uri": "https://localhost:8080/"
        },
        "id": "DN80bjv2f4z5",
        "outputId": "c6e27eba-ae3d-42fc-a85d-eec715154709"
      },
      "execution_count": null,
      "outputs": [
        {
          "output_type": "stream",
          "name": "stdout",
          "text": [
            "[[0 0 0]\n",
            " [0 0 0]\n",
            " [0 0 0]]\n",
            "shape of array (3, 3)\n"
          ]
        }
      ]
    },
    {
      "cell_type": "markdown",
      "source": [
        "ones()"
      ],
      "metadata": {
        "id": "Utt6OlhTgFP_"
      }
    },
    {
      "cell_type": "code",
      "source": [
        "arr_1 = np.ones((3,3))\n",
        "print(arr_1)\n",
        "print(\"shape of array\", arr_1.shape)"
      ],
      "metadata": {
        "colab": {
          "base_uri": "https://localhost:8080/"
        },
        "id": "JMVBgYKdgG9g",
        "outputId": "0539dc6a-38d4-42d0-abf2-3a3e1930ea91"
      },
      "execution_count": null,
      "outputs": [
        {
          "output_type": "stream",
          "name": "stdout",
          "text": [
            "[[1. 1. 1.]\n",
            " [1. 1. 1.]\n",
            " [1. 1. 1.]]\n",
            "shape of array (3, 3)\n"
          ]
        }
      ]
    },
    {
      "cell_type": "code",
      "source": [
        "arr_1 = np.ones(50)\n",
        "print(arr_1)\n",
        "print(\"shape of array\", arr_1.shape)"
      ],
      "metadata": {
        "colab": {
          "base_uri": "https://localhost:8080/"
        },
        "id": "nwkYdrSOgbto",
        "outputId": "633375a0-0702-47aa-d8e9-477efac808af"
      },
      "execution_count": null,
      "outputs": [
        {
          "output_type": "stream",
          "name": "stdout",
          "text": [
            "[1. 1. 1. 1. 1. 1. 1. 1. 1. 1. 1. 1. 1. 1. 1. 1. 1. 1. 1. 1. 1. 1. 1. 1.\n",
            " 1. 1. 1. 1. 1. 1. 1. 1. 1. 1. 1. 1. 1. 1. 1. 1. 1. 1. 1. 1. 1. 1. 1. 1.\n",
            " 1. 1.]\n",
            "shape of array (50,)\n"
          ]
        }
      ]
    },
    {
      "cell_type": "code",
      "source": [
        "arr_4 = np.ones((3,3), dtype=int)\n",
        "print(arr_4)\n",
        "print(\"shape of array\", arr_4.shape)"
      ],
      "metadata": {
        "colab": {
          "base_uri": "https://localhost:8080/"
        },
        "id": "UBj8rYGFgvaK",
        "outputId": "fe951026-72b9-4220-d545-740381ff072b"
      },
      "execution_count": null,
      "outputs": [
        {
          "output_type": "stream",
          "name": "stdout",
          "text": [
            "[[1 1 1]\n",
            " [1 1 1]\n",
            " [1 1 1]]\n",
            "shape of array (3, 3)\n"
          ]
        }
      ]
    },
    {
      "cell_type": "markdown",
      "source": [
        "eye()"
      ],
      "metadata": {
        "id": "zrVWXyglg24u"
      }
    },
    {
      "cell_type": "code",
      "source": [
        "arr_1 = np.eye(3)\n",
        "print(arr_1)\n",
        "print(\"shape of array\", arr_1.shape)"
      ],
      "metadata": {
        "colab": {
          "base_uri": "https://localhost:8080/"
        },
        "id": "p1eBU9agg7Cb",
        "outputId": "aa49a575-1dce-4b1c-db3b-519fedbff58d"
      },
      "execution_count": null,
      "outputs": [
        {
          "output_type": "stream",
          "name": "stdout",
          "text": [
            "[[1. 0. 0.]\n",
            " [0. 1. 0.]\n",
            " [0. 0. 1.]]\n",
            "shape of array (3, 3)\n"
          ]
        }
      ]
    },
    {
      "cell_type": "code",
      "source": [
        "#arr_1 = np.eye((3,3))\n",
        "print(arr_1)\n",
        "print(\"shape of array\", arr_1.shape)"
      ],
      "metadata": {
        "colab": {
          "base_uri": "https://localhost:8080/"
        },
        "id": "YB4JIaTEhENH",
        "outputId": "86ae5273-f9c9-4b2e-ce9d-1fc5662efeaa"
      },
      "execution_count": null,
      "outputs": [
        {
          "output_type": "stream",
          "name": "stdout",
          "text": [
            "[[1. 0. 0.]\n",
            " [0. 1. 0.]\n",
            " [0. 0. 1.]]\n",
            "shape of array (3, 3)\n"
          ]
        }
      ]
    },
    {
      "cell_type": "markdown",
      "source": [
        "Matrix()"
      ],
      "metadata": {
        "id": "jf6xUDbChPu7"
      }
    },
    {
      "cell_type": "code",
      "source": [
        "arr_1 = np.array([[1,2,3],[4,5,6]])\n",
        "print(arr_1)\n",
        "print(\"shape of array\", arr_1.shape)"
      ],
      "metadata": {
        "colab": {
          "base_uri": "https://localhost:8080/"
        },
        "id": "lFRDbrewhSww",
        "outputId": "63f6ab39-aa44-45e1-a3a7-5663bb4f7dec"
      },
      "execution_count": null,
      "outputs": [
        {
          "output_type": "stream",
          "name": "stdout",
          "text": [
            "[[1 2 3]\n",
            " [4 5 6]]\n",
            "shape of array (2, 3)\n"
          ]
        }
      ]
    },
    {
      "cell_type": "code",
      "source": [
        "arr_2 = np.matrix([[1,2,3],[4,5,6]])\n",
        "print(arr_2)\n",
        "print(\"shape of array\", arr_2.shape)"
      ],
      "metadata": {
        "colab": {
          "base_uri": "https://localhost:8080/"
        },
        "id": "GED0RBy8hzPU",
        "outputId": "cf9aa75d-ff6e-4ba1-97fd-043432a92318"
      },
      "execution_count": null,
      "outputs": [
        {
          "output_type": "stream",
          "name": "stdout",
          "text": [
            "[[1 2 3]\n",
            " [4 5 6]]\n",
            "shape of array (2, 3)\n"
          ]
        }
      ]
    },
    {
      "cell_type": "code",
      "source": [
        "arr_3 = np.array([1,2,3])\n",
        "print(arr_3)\n",
        "print(\"shape of array\", arr_3.shape)"
      ],
      "metadata": {
        "colab": {
          "base_uri": "https://localhost:8080/"
        },
        "id": "JYkLLyLJiFjr",
        "outputId": "8c5d54dd-edfe-4aa2-efaa-31856805e586"
      },
      "execution_count": null,
      "outputs": [
        {
          "output_type": "stream",
          "name": "stdout",
          "text": [
            "[1 2 3]\n",
            "shape of array (3,)\n"
          ]
        }
      ]
    },
    {
      "cell_type": "code",
      "source": [
        "arr_4 = np.matrix([1,2,3])\n",
        "print(arr_4)\n",
        "print(\"shape of array\", arr_4.shape)"
      ],
      "metadata": {
        "colab": {
          "base_uri": "https://localhost:8080/"
        },
        "id": "x_vlmGa7iXIm",
        "outputId": "031fe75c-978d-4317-a9e9-b4efb39deea8"
      },
      "execution_count": null,
      "outputs": [
        {
          "output_type": "stream",
          "name": "stdout",
          "text": [
            "[[1 2 3]]\n",
            "shape of array (1, 3)\n"
          ]
        }
      ]
    },
    {
      "cell_type": "markdown",
      "source": [
        "Max(),Min(),Argmax(),Argmin()"
      ],
      "metadata": {
        "id": "x-U4567evSPK"
      }
    },
    {
      "cell_type": "code",
      "source": [
        "arr_1 = np.array([11,44,2,6,33,7,8,9,33,4,5,6,22,8,9])\n",
        "print(arr_1)"
      ],
      "metadata": {
        "colab": {
          "base_uri": "https://localhost:8080/"
        },
        "id": "XB9bv5eqih7p",
        "outputId": "d90e6862-ba4f-4cbf-dfd3-9748f949aaa4"
      },
      "execution_count": null,
      "outputs": [
        {
          "output_type": "stream",
          "name": "stdout",
          "text": [
            "[11 44  2  6 33  7  8  9 33  4  5  6 22  8  9]\n"
          ]
        }
      ]
    },
    {
      "cell_type": "code",
      "source": [
        "print(np.max(arr_1))"
      ],
      "metadata": {
        "colab": {
          "base_uri": "https://localhost:8080/"
        },
        "id": "MG3hX4U9uWfd",
        "outputId": "c65bb0a5-1d30-4c42-f098-28dcf5c9f40d"
      },
      "execution_count": null,
      "outputs": [
        {
          "output_type": "stream",
          "name": "stdout",
          "text": [
            "44\n"
          ]
        }
      ]
    },
    {
      "cell_type": "code",
      "source": [
        "np.min(arr_1)"
      ],
      "metadata": {
        "colab": {
          "base_uri": "https://localhost:8080/"
        },
        "id": "Xy-M0RfJuc04",
        "outputId": "5bbf6894-e1e2-4286-e226-bf426e02d2f4"
      },
      "execution_count": null,
      "outputs": [
        {
          "output_type": "execute_result",
          "data": {
            "text/plain": [
              "np.int64(2)"
            ]
          },
          "metadata": {},
          "execution_count": 57
        }
      ]
    },
    {
      "cell_type": "code",
      "source": [
        "np.argmax(arr_1)"
      ],
      "metadata": {
        "colab": {
          "base_uri": "https://localhost:8080/"
        },
        "id": "9Sw9wHHJuhFu",
        "outputId": "5bf7d029-7391-4333-ca86-eb1a33aee961"
      },
      "execution_count": null,
      "outputs": [
        {
          "output_type": "execute_result",
          "data": {
            "text/plain": [
              "np.int64(1)"
            ]
          },
          "metadata": {},
          "execution_count": 58
        }
      ]
    },
    {
      "cell_type": "code",
      "source": [
        "np.argmin(arr_1)"
      ],
      "metadata": {
        "colab": {
          "base_uri": "https://localhost:8080/"
        },
        "id": "H_xIhHIqulnU",
        "outputId": "1a03cfef-9d93-457b-9e2c-1efe7ba10f04"
      },
      "execution_count": null,
      "outputs": [
        {
          "output_type": "execute_result",
          "data": {
            "text/plain": [
              "np.int64(2)"
            ]
          },
          "metadata": {},
          "execution_count": 59
        }
      ]
    },
    {
      "cell_type": "markdown",
      "source": [
        "Reshape()\n"
      ],
      "metadata": {
        "id": "oO2lK7Qvvviw"
      }
    },
    {
      "cell_type": "code",
      "source": [
        "array_1 = np.arange(1,21)\n",
        "print(\"array:\", array_1)\n",
        "print(\"shape of array:\", array_1.shape)\n",
        "print(\"number of elements:\", array_1.size)\n",
        "print(\"number of dimension:\", array_1.ndim)"
      ],
      "metadata": {
        "colab": {
          "base_uri": "https://localhost:8080/"
        },
        "id": "W4Pkw1fnvyym",
        "outputId": "b8e90fb6-afc3-4d68-8063-7262c24583c2"
      },
      "execution_count": null,
      "outputs": [
        {
          "output_type": "stream",
          "name": "stdout",
          "text": [
            "array: [ 1  2  3  4  5  6  7  8  9 10 11 12 13 14 15 16 17 18 19 20]\n",
            "shape of array: (20,)\n",
            "number of elements: 20\n",
            "number of dimension: 1\n"
          ]
        }
      ]
    },
    {
      "cell_type": "code",
      "source": [
        "reshape_array = array_1.reshape(1,20)\n",
        "print(\"array:\", reshape_array)\n",
        "print(\"shape of array:\", reshape_array.shape)\n",
        "print(\"number of elements:\", reshape_array.size)\n",
        "print(\"number of dimension:\", reshape_array.ndim)"
      ],
      "metadata": {
        "colab": {
          "base_uri": "https://localhost:8080/"
        },
        "id": "bNObjQIlwT4C",
        "outputId": "054cb1f1-27ef-4e8f-8069-453f6a06b060"
      },
      "execution_count": null,
      "outputs": [
        {
          "output_type": "stream",
          "name": "stdout",
          "text": [
            "array: [[ 1  2  3  4  5  6  7  8  9 10 11 12 13 14 15 16 17 18 19 20]]\n",
            "shape of array: (1, 20)\n",
            "number of elements: 20\n",
            "number of dimension: 2\n"
          ]
        }
      ]
    },
    {
      "cell_type": "code",
      "source": [
        "reshape_array = array_1.reshape(20,1)\n",
        "print(\"array:\", reshape_array)\n",
        "print(\"shape of array:\", reshape_array.shape)\n",
        "print(\"number of elements:\", reshape_array.size)\n",
        "print(\"number of dimension:\", reshape_array.ndim)"
      ],
      "metadata": {
        "colab": {
          "base_uri": "https://localhost:8080/"
        },
        "id": "pHfJ0AK3wtvN",
        "outputId": "57f19f41-b85c-4b86-b77c-13e563265177"
      },
      "execution_count": null,
      "outputs": [
        {
          "output_type": "stream",
          "name": "stdout",
          "text": [
            "array: [[ 1]\n",
            " [ 2]\n",
            " [ 3]\n",
            " [ 4]\n",
            " [ 5]\n",
            " [ 6]\n",
            " [ 7]\n",
            " [ 8]\n",
            " [ 9]\n",
            " [10]\n",
            " [11]\n",
            " [12]\n",
            " [13]\n",
            " [14]\n",
            " [15]\n",
            " [16]\n",
            " [17]\n",
            " [18]\n",
            " [19]\n",
            " [20]]\n",
            "shape of array: (20, 1)\n",
            "number of elements: 20\n",
            "number of dimension: 2\n"
          ]
        }
      ]
    },
    {
      "cell_type": "code",
      "source": [
        "reshape_array_2 = array_1.reshape(5,4)\n",
        "print(\"array:\", reshape_array_2)\n",
        "print(\"shape of array:\", reshape_array_2.shape)\n",
        "print(\"number of elements:\", reshape_array_2.size)\n",
        "print(\"number of dimension:\", reshape_array_2.ndim)"
      ],
      "metadata": {
        "colab": {
          "base_uri": "https://localhost:8080/"
        },
        "id": "W9F6EwAcx-M7",
        "outputId": "a986932b-8d3e-4d13-ffb1-eba83f928409"
      },
      "execution_count": null,
      "outputs": [
        {
          "output_type": "stream",
          "name": "stdout",
          "text": [
            "array: [[ 1  2  3  4]\n",
            " [ 5  6  7  8]\n",
            " [ 9 10 11 12]\n",
            " [13 14 15 16]\n",
            " [17 18 19 20]]\n",
            "shape of array: (5, 4)\n",
            "number of elements: 20\n",
            "number of dimension: 2\n"
          ]
        }
      ]
    },
    {
      "cell_type": "code",
      "source": [
        "reshape_array_2 = array_1.reshape(4,5)\n",
        "print(\"array:\", reshape_array_2)\n",
        "print(\"shape of array:\", reshape_array_2.shape)\n",
        "print(\"number of elements:\", reshape_array_2.size)\n",
        "print(\"number of dimension:\", reshape_array_2.ndim)"
      ],
      "metadata": {
        "colab": {
          "base_uri": "https://localhost:8080/"
        },
        "id": "LjeI5wxgyPig",
        "outputId": "c71c1c80-0002-43c5-eacc-97032865773e"
      },
      "execution_count": null,
      "outputs": [
        {
          "output_type": "stream",
          "name": "stdout",
          "text": [
            "array: [[ 1  2  3  4  5]\n",
            " [ 6  7  8  9 10]\n",
            " [11 12 13 14 15]\n",
            " [16 17 18 19 20]]\n",
            "shape of array: (4, 5)\n",
            "number of elements: 20\n",
            "number of dimension: 2\n"
          ]
        }
      ]
    },
    {
      "cell_type": "markdown",
      "source": [
        "Time Comparison between numpy array and list"
      ],
      "metadata": {
        "id": "rwQBjg5yzhuQ"
      }
    },
    {
      "cell_type": "code",
      "source": [
        "import time"
      ],
      "metadata": {
        "id": "IdPefXAmykYp"
      },
      "execution_count": null,
      "outputs": []
    },
    {
      "cell_type": "code",
      "source": [
        "list_1 = list(range(10000000))\n",
        "arr_1 = np.array(list_1)"
      ],
      "metadata": {
        "id": "bqdIThpXzx48"
      },
      "execution_count": null,
      "outputs": []
    },
    {
      "cell_type": "code",
      "source": [
        "start_time = time.time()\n",
        "result_list = [(x * 5) for x in list_1]\n",
        "list_time = time.time() - start_time"
      ],
      "metadata": {
        "id": "jhy_HWrhztcJ"
      },
      "execution_count": null,
      "outputs": []
    },
    {
      "cell_type": "code",
      "source": [
        "start_time = time.time()\n",
        "result_array = arr_1 * 5\n",
        "array_time = time.time() - start_time"
      ],
      "metadata": {
        "id": "L2IVvyy40UF9"
      },
      "execution_count": null,
      "outputs": []
    },
    {
      "cell_type": "code",
      "source": [
        "print(\"Time  taken by list:\", list_time)\n",
        "print(\"Time taken by array:\", array_time)\n",
        "print(\"Difference in time:\", list_time - array_time)"
      ],
      "metadata": {
        "colab": {
          "base_uri": "https://localhost:8080/"
        },
        "id": "FHstS7YG0e6L",
        "outputId": "177904d3-99d5-4601-e04f-f72707dd7527"
      },
      "execution_count": null,
      "outputs": [
        {
          "output_type": "stream",
          "name": "stdout",
          "text": [
            "Time  taken by list: 0.8921079635620117\n",
            "Time taken by array: 0.046668291091918945\n",
            "Difference in time: 0.8454396724700928\n"
          ]
        }
      ]
    },
    {
      "cell_type": "markdown",
      "source": [
        "Outlier Detection\n"
      ],
      "metadata": {
        "id": "3fxozIaO5U_y"
      }
    },
    {
      "cell_type": "code",
      "source": [
        "data = np.array([22,3,44,55,66,77,44,66,22,33,88,4,999])\n",
        "print(data)"
      ],
      "metadata": {
        "colab": {
          "base_uri": "https://localhost:8080/"
        },
        "id": "u8poFtvS03Y1",
        "outputId": "6b515e49-e0fc-4744-abc6-c51b54b6aaf3"
      },
      "execution_count": null,
      "outputs": [
        {
          "output_type": "stream",
          "name": "stdout",
          "text": [
            "[ 22   3  44  55  66  77  44  66  22  33  88   4 999]\n"
          ]
        }
      ]
    },
    {
      "cell_type": "code",
      "source": [
        "def Outlier_Detector(data):\n",
        "  sorted(data)\n",
        "  Q1, Q3 = np.percentile(data, [25,75])\n",
        "  print(\"Q1:\", Q1)\n",
        "  print(\"Q3:\", Q3)\n",
        "  IQR = Q3 - Q1\n",
        "  print(\"IQR:\", IQR)\n",
        "  lower_bound = Q1 - (1.5 * IQR)\n",
        "  upper_bound = Q3 + (1.5 * IQR)\n",
        "  return lower_bound, upper_bound"
      ],
      "metadata": {
        "id": "8JUcJeZb5i44"
      },
      "execution_count": null,
      "outputs": []
    },
    {
      "cell_type": "code",
      "source": [
        "lb, ub = Outlier_Detector(data)\n",
        "print(\"The range is in between:\", lb, \"and\", ub)"
      ],
      "metadata": {
        "colab": {
          "base_uri": "https://localhost:8080/"
        },
        "id": "vWO51dr96CY_",
        "outputId": "5bf5e2b8-d244-4c1c-d16c-7fb4fe41c98f"
      },
      "execution_count": null,
      "outputs": [
        {
          "output_type": "stream",
          "name": "stdout",
          "text": [
            "Q1: 22.0\n",
            "Q3: 66.0\n",
            "IQR: 44.0\n",
            "The range is in between: -44.0 and 132.0\n"
          ]
        }
      ]
    },
    {
      "cell_type": "code",
      "source": [
        "outliers = [x for x in data if x < lb or x > ub]\n",
        "print(\"Outliers in data:\", outliers)"
      ],
      "metadata": {
        "colab": {
          "base_uri": "https://localhost:8080/"
        },
        "id": "cbaNvXuW6d6h",
        "outputId": "dd589345-6596-47f5-e4f7-4616a34f278e"
      },
      "execution_count": null,
      "outputs": [
        {
          "output_type": "stream",
          "name": "stdout",
          "text": [
            "Outliers in data: [np.int64(999)]\n"
          ]
        }
      ]
    },
    {
      "cell_type": "code",
      "source": [],
      "metadata": {
        "id": "QxwLP-2G8gJJ"
      },
      "execution_count": null,
      "outputs": []
    }
  ]
}