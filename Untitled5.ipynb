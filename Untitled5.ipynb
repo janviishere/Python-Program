{
  "nbformat": 4,
  "nbformat_minor": 0,
  "metadata": {
    "colab": {
      "provenance": [],
      "authorship_tag": "ABX9TyNTKQ+oxSqh+ggutcDs8NXV",
      "include_colab_link": true
    },
    "kernelspec": {
      "name": "python3",
      "display_name": "Python 3"
    },
    "language_info": {
      "name": "python"
    }
  },
  "cells": [
    {
      "cell_type": "markdown",
      "metadata": {
        "id": "view-in-github",
        "colab_type": "text"
      },
      "source": [
        "<a href=\"https://colab.research.google.com/github/janviishere/Python-Program/blob/main/Untitled5.ipynb\" target=\"_parent\"><img src=\"https://colab.research.google.com/assets/colab-badge.svg\" alt=\"Open In Colab\"/></a>"
      ]
    },
    {
      "cell_type": "code",
      "execution_count": null,
      "metadata": {
        "colab": {
          "base_uri": "https://localhost:8080/"
        },
        "id": "CSwYMXGaqxD4",
        "outputId": "90f31712-b135-4beb-c9f9-badc9bcb4c6c"
      },
      "outputs": [
        {
          "output_type": "execute_result",
          "data": {
            "text/plain": [
              "30"
            ]
          },
          "metadata": {},
          "execution_count": 9
        }
      ],
      "source": [
        "#adding two numbers\n",
        "num1=10\n",
        "num2=20\n",
        "num1+num2"
      ]
    },
    {
      "cell_type": "code",
      "source": [
        "#swapp two numbers\n",
        "num1,num2=num2,num1\n",
        "print(\"num1\",num2)\n",
        "print(\"num2\",num1)"
      ],
      "metadata": {
        "colab": {
          "base_uri": "https://localhost:8080/"
        },
        "id": "shMbAUW02cQt",
        "outputId": "1c052100-061a-4443-face-3c85d7b6e0fd"
      },
      "execution_count": null,
      "outputs": [
        {
          "output_type": "stream",
          "name": "stdout",
          "text": [
            "num1 20\n",
            "num2 10\n"
          ]
        }
      ]
    },
    {
      "cell_type": "code",
      "source": [
        "import datetime\n",
        "a=\"janvi\"\n",
        "b=18\n",
        "\n",
        "\n",
        "year = (datetime.datetime.today().year)-b\n",
        "\n",
        "print(\"Hello\",a,\"you are\",b,\"years old\",\"Your year of birth is\",year)"
      ],
      "metadata": {
        "colab": {
          "base_uri": "https://localhost:8080/"
        },
        "id": "26vTPumq2jld",
        "outputId": "52ddeeed-66cb-4cde-bb01-cc779bc3b15a"
      },
      "execution_count": 2,
      "outputs": [
        {
          "output_type": "stream",
          "name": "stdout",
          "text": [
            "Hello janvi you are 18 years old Your year of birth is 2007\n"
          ]
        }
      ]
    },
    {
      "cell_type": "code",
      "source": [],
      "metadata": {
        "id": "Np3HNzKyUmnu"
      },
      "execution_count": null,
      "outputs": []
    }
  ]
}