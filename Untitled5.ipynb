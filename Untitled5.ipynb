{
  "nbformat": 4,
  "nbformat_minor": 0,
  "metadata": {
    "colab": {
      "provenance": [],
      "authorship_tag": "ABX9TyPZivw7/ijCtco1+0FIzsHm",
      "include_colab_link": true
    },
    "kernelspec": {
      "name": "python3",
      "display_name": "Python 3"
    },
    "language_info": {
      "name": "python"
    }
  },
  "cells": [
    {
      "cell_type": "markdown",
      "metadata": {
        "id": "view-in-github",
        "colab_type": "text"
      },
      "source": [
        "<a href=\"https://colab.research.google.com/github/janviishere/Python-Program/blob/main/Untitled5.ipynb\" target=\"_parent\"><img src=\"https://colab.research.google.com/assets/colab-badge.svg\" alt=\"Open In Colab\"/></a>"
      ]
    },
    {
      "cell_type": "code",
      "execution_count": null,
      "metadata": {
        "colab": {
          "base_uri": "https://localhost:8080/"
        },
        "id": "CSwYMXGaqxD4",
        "outputId": "90f31712-b135-4beb-c9f9-badc9bcb4c6c"
      },
      "outputs": [
        {
          "output_type": "execute_result",
          "data": {
            "text/plain": [
              "30"
            ]
          },
          "metadata": {},
          "execution_count": 9
        }
      ],
      "source": [
        "#adding two numbers\n",
        "num1=10\n",
        "num2=20\n",
        "num1+num2"
      ]
    },
    {
      "cell_type": "code",
      "source": [
        "#swapp two numbers\n",
        "num1,num2=num2,num1\n",
        "print(\"num1\",num2)\n",
        "print(\"num2\",num1)"
      ],
      "metadata": {
        "colab": {
          "base_uri": "https://localhost:8080/"
        },
        "id": "shMbAUW02cQt",
        "outputId": "1c052100-061a-4443-face-3c85d7b6e0fd"
      },
      "execution_count": null,
      "outputs": [
        {
          "output_type": "stream",
          "name": "stdout",
          "text": [
            "num1 20\n",
            "num2 10\n"
          ]
        }
      ]
    },
    {
      "cell_type": "code",
      "source": [
        "import datetime\n",
        "a=\"janvi\"\n",
        "b=18\n",
        "\n",
        "\n",
        "year = (datetime.datetime.today().year)-b\n",
        "\n",
        "print(\"Hello\",a,\"you are\",b,\"years old\",\"Your year of birth is\",year)"
      ],
      "metadata": {
        "colab": {
          "base_uri": "https://localhost:8080/"
        },
        "id": "26vTPumq2jld",
        "outputId": "a8b4f734-6364-495d-d21d-f73987c228d9"
      },
      "execution_count": 1,
      "outputs": [
        {
          "output_type": "stream",
          "name": "stdout",
          "text": [
            "Hello janvi you are 18 years old Your year of birth is 2007\n"
          ]
        }
      ]
    },
    {
      "cell_type": "code",
      "source": [
        "import numpy as np\n",
        "array = np.arange(1, 101)\n",
        "matrix = array.reshape(10, 10)\n",
        "\n",
        "row_sums = np.sum(matrix, axis=1)\n",
        "column_sums = np.sum(matrix, axis=0)\n",
        "\n",
        "print(\"Row sums:\")\n",
        "print(row_sums)\n",
        "\n",
        "print(\"\\nColumn sums:\")\n",
        "print(column_sums)"
      ],
      "metadata": {
        "id": "Np3HNzKyUmnu",
        "colab": {
          "base_uri": "https://localhost:8080/"
        },
        "outputId": "de02f589-cc73-4629-b892-9da02e0c2f38"
      },
      "execution_count": 2,
      "outputs": [
        {
          "output_type": "stream",
          "name": "stdout",
          "text": [
            "Row sums:\n",
            "[ 55 155 255 355 455 555 655 755 855 955]\n",
            "\n",
            "Column sums:\n",
            "[460 470 480 490 500 510 520 530 540 550]\n"
          ]
        }
      ]
    },
    {
      "cell_type": "code",
      "source": [
        "import pandas as pd\n",
        "data = {\n",
        "    'Name': [\n",
        "        'Meena Porwal', 'Shagun Aggarwal', 'Ritika Tiwari', 'Ansh Yadav',\n",
        "        'Aditya Singh', 'Shantanu Bhadauriya', 'Aniket Mishra', 'Dhriti Singh',\n",
        "        'Aradhya Aggarwal', 'Ayush Dubey'\n",
        "    ],\n",
        "    'Age': [\n",
        "        18,19,20,18,19,20,19,18,18,20\n",
        "    ],\n",
        "    'Major Subject': [\n",
        "        'Computer Science', 'Mathematics', 'Physics', 'Biology',\n",
        "        'Chemistry', 'English', 'Mathematics', 'Computer Science',\n",
        "        'Biology', 'Physics'\n",
        "    ],\n",
        "    'GPA': [\n",
        "        5.8, 5.8, 5.8, 5.8,\n",
        "        7.6, 7.1, 8.7, 5.8,\n",
        "        8.8, 9.0\n",
        "    ]\n",
        "}\n",
        "students_df = pd.DataFrame(data)\n",
        "\n",
        "print(students_df)"
      ],
      "metadata": {
        "colab": {
          "base_uri": "https://localhost:8080/"
        },
        "id": "wMNSsgZA4HKY",
        "outputId": "af690c36-29ae-470c-aab5-3400d52bcba5"
      },
      "execution_count": 5,
      "outputs": [
        {
          "output_type": "stream",
          "name": "stdout",
          "text": [
            "                  Name  Age     Major Subject  GPA\n",
            "0         Meena Porwal   18  Computer Science  5.8\n",
            "1      Shagun Aggarwal   19       Mathematics  5.8\n",
            "2        Ritika Tiwari   20           Physics  5.8\n",
            "3           Ansh Yadav   18           Biology  5.8\n",
            "4         Aditya Singh   19         Chemistry  7.6\n",
            "5  Shantanu Bhadauriya   20           English  7.1\n",
            "6        Aniket Mishra   19       Mathematics  8.7\n",
            "7         Dhriti Singh   18  Computer Science  5.8\n",
            "8     Aradhya Aggarwal   18           Biology  8.8\n",
            "9          Ayush Dubey   20           Physics  9.0\n"
          ]
        }
      ]
    }
  ]
}