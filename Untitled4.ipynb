{
  "nbformat": 4,
  "nbformat_minor": 0,
  "metadata": {
    "colab": {
      "provenance": [],
      "authorship_tag": "ABX9TyN0ayGkhlAG28hgoclIkxoN",
      "include_colab_link": true
    },
    "kernelspec": {
      "name": "python3",
      "display_name": "Python 3"
    },
    "language_info": {
      "name": "python"
    }
  },
  "cells": [
    {
      "cell_type": "markdown",
      "metadata": {
        "id": "view-in-github",
        "colab_type": "text"
      },
      "source": [
        "<a href=\"https://colab.research.google.com/github/janviishere/Python-Program/blob/main/Untitled4.ipynb\" target=\"_parent\"><img src=\"https://colab.research.google.com/assets/colab-badge.svg\" alt=\"Open In Colab\"/></a>"
      ]
    },
    {
      "cell_type": "code",
      "execution_count": 1,
      "metadata": {
        "colab": {
          "base_uri": "https://localhost:8080/"
        },
        "id": "rDS9vKitopbu",
        "outputId": "da998ddb-da3d-4681-b5f6-32f12a97452a"
      },
      "outputs": [
        {
          "output_type": "stream",
          "name": "stdout",
          "text": [
            "Enter the principal amount: 100\n",
            "Enter the rate of interest: 10\n",
            "Enter the time in years: 2\n",
            "Simple Interest: 20.0\n"
          ]
        }
      ],
      "source": [
        "principal = float(input(\"Enter the principal amount: \"))\n",
        "rate = float(input(\"Enter the rate of interest: \"))\n",
        "time = float(input(\"Enter the time in years: \"))\n",
        "\n",
        "simple_interest = (principal * rate * time) / 100\n",
        "print(\"Simple Interest:\", simple_interest)\n"
      ]
    },
    {
      "cell_type": "code",
      "source": [
        "import math\n",
        "\n",
        "radius = float(input(\"Enter the radius of the circle: \"))\n",
        "area = math.pi * radius ** 2\n",
        "print(\"Area of the circle:\", area)\n"
      ],
      "metadata": {
        "colab": {
          "base_uri": "https://localhost:8080/"
        },
        "id": "jh0x23LxpTUa",
        "outputId": "f07dd687-99ba-4494-c073-cf143af1dca6"
      },
      "execution_count": 2,
      "outputs": [
        {
          "output_type": "stream",
          "name": "stdout",
          "text": [
            "Enter the radius of the circle: 4\n",
            "Area of the circle: 50.26548245743669\n"
          ]
        }
      ]
    },
    {
      "cell_type": "code",
      "source": [
        "celsius = float(input(\"Enter temperature in Celsius: \"))\n",
        "kelvin = celsius + 273.15\n",
        "print(\"Temperature in Kelvin:\", kelvin)"
      ],
      "metadata": {
        "colab": {
          "base_uri": "https://localhost:8080/"
        },
        "id": "QZ5LvMoDpY8P",
        "outputId": "040047d3-ed1e-4c54-be21-0679ca6955b0"
      },
      "execution_count": 3,
      "outputs": [
        {
          "output_type": "stream",
          "name": "stdout",
          "text": [
            "Enter temperature in Celsius: 60\n",
            "Temperature in Kelvin: 333.15\n"
          ]
        }
      ]
    },
    {
      "cell_type": "code",
      "source": [
        "miles = float(input(\"Enter miles: \"))\n",
        "km = miles / 0.621371\n",
        "print(miles, \"miles is equal to\", km, \"kilometers\")\n"
      ],
      "metadata": {
        "colab": {
          "base_uri": "https://localhost:8080/"
        },
        "id": "ZTwNCRdmpiri",
        "outputId": "9e247e95-12cf-4e37-de51-a3bb0c5d4c10"
      },
      "execution_count": 4,
      "outputs": [
        {
          "output_type": "stream",
          "name": "stdout",
          "text": [
            "Enter miles: 200\n",
            "200.0 miles is equal to 321.8688995785127 kilometers\n"
          ]
        }
      ]
    },
    {
      "cell_type": "code",
      "source": [
        "year = int(input(\"Enter a year: \"))\n",
        "\n",
        "if (year % 4 == 0 and year % 100 != 0) or (year % 400 == 0):\n",
        "    print(year, \"is a leap year\")\n",
        "else:\n",
        "    print(year, \"is not a leap year\")"
      ],
      "metadata": {
        "colab": {
          "base_uri": "https://localhost:8080/"
        },
        "id": "O3nfKU5ZpoDY",
        "outputId": "950415cc-ee6c-410b-9bd0-22a9d9bec063"
      },
      "execution_count": 5,
      "outputs": [
        {
          "output_type": "stream",
          "name": "stdout",
          "text": [
            "Enter a year: 2\n",
            "2 is not a leap year\n"
          ]
        }
      ]
    },
    {
      "cell_type": "code",
      "source": [
        "binary = input(\"Enter a binary number: \")\n",
        "decimal = int(binary, 2)\n",
        "print(\"Decimal value:\", decimal)"
      ],
      "metadata": {
        "colab": {
          "base_uri": "https://localhost:8080/"
        },
        "id": "dUR6gg5dpvSo",
        "outputId": "227442e7-b06c-475c-8a69-41b3ba513a42"
      },
      "execution_count": 7,
      "outputs": [
        {
          "output_type": "stream",
          "name": "stdout",
          "text": [
            "Enter a binary number: 010\n",
            "Decimal value: 2\n"
          ]
        }
      ]
    },
    {
      "cell_type": "code",
      "source": [
        "a = input(\"Enter first variable: \")\n",
        "b = input(\"Enter second variable: \")\n",
        "\n",
        "a, b = b, a\n",
        "\n",
        "print(\"After swapping: a =\", a, \", b =\", b)"
      ],
      "metadata": {
        "colab": {
          "base_uri": "https://localhost:8080/"
        },
        "id": "p19Wx2Ekp2Ax",
        "outputId": "d02ee946-024f-4408-a5b6-b6b2657f952d"
      },
      "execution_count": 8,
      "outputs": [
        {
          "output_type": "stream",
          "name": "stdout",
          "text": [
            "Enter first variable: a\n",
            "Enter second variable: b\n",
            "After swapping: a = b , b = a\n"
          ]
        }
      ]
    },
    {
      "cell_type": "code",
      "source": [
        "import random\n",
        "\n",
        "num = random.randint(1, 100)\n",
        "print(\"Random number between 1 and 100:\", num)"
      ],
      "metadata": {
        "colab": {
          "base_uri": "https://localhost:8080/"
        },
        "id": "4iSBIfFSp7mL",
        "outputId": "5c8004ed-b675-4acb-edc1-72a7152b9354"
      },
      "execution_count": 11,
      "outputs": [
        {
          "output_type": "stream",
          "name": "stdout",
          "text": [
            "Random number between 1 and 100: 52\n"
          ]
        }
      ]
    },
    {
      "cell_type": "code",
      "source": [
        "while True:\n",
        "    task = input(\"Enter a task (or 'done' to finish): \")\n",
        "    if task == 'done':\n",
        "        break\n",
        "    to_do_list.append(task)\n",
        "\n",
        "print(\"Your To-Do List:\")\n",
        "for task in to_do_list:\n",
        "    print(task)\n"
      ],
      "metadata": {
        "id": "9E4-rLKGqCYD"
      },
      "execution_count": null,
      "outputs": []
    }
  ]
}