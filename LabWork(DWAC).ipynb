{
  "nbformat": 4,
  "nbformat_minor": 0,
  "metadata": {
    "colab": {
      "provenance": [],
      "authorship_tag": "ABX9TyPFH66rfHeHRlBDvISN9c9h",
      "include_colab_link": true
    },
    "kernelspec": {
      "name": "python3",
      "display_name": "Python 3"
    },
    "language_info": {
      "name": "python"
    }
  },
  "cells": [
    {
      "cell_type": "markdown",
      "metadata": {
        "id": "view-in-github",
        "colab_type": "text"
      },
      "source": [
        "<a href=\"https://colab.research.google.com/github/janviishere/Python-Program/blob/main/LabWork(DWAC).ipynb\" target=\"_parent\"><img src=\"https://colab.research.google.com/assets/colab-badge.svg\" alt=\"Open In Colab\"/></a>"
      ]
    },
    {
      "cell_type": "markdown",
      "source": [
        "**LAB-1**"
      ],
      "metadata": {
        "id": "SavyEAthLVMc"
      }
    },
    {
      "cell_type": "code",
      "source": [
        "import pandas as pd\n",
        "\n",
        "df=pd.read_csv(\"/content/sample_data/mnist_train_small.csv\")\n",
        "print(df.head())\n",
        "print(df.shape)\n",
        "print(df.info())\n",
        "print(df.describe())\n",
        "print(df.tail())"
      ],
      "metadata": {
        "colab": {
          "base_uri": "https://localhost:8080/"
        },
        "id": "uN_NpLdnsX9I",
        "outputId": "51b0d8a5-e32e-41f9-f64e-34fc10afd057"
      },
      "execution_count": 2,
      "outputs": [
        {
          "output_type": "stream",
          "name": "stdout",
          "text": [
            "   6  0  0.1  0.2  0.3  0.4  0.5  0.6  0.7  0.8  ...  0.581  0.582  0.583  \\\n",
            "0  5  0    0    0    0    0    0    0    0    0  ...      0      0      0   \n",
            "1  7  0    0    0    0    0    0    0    0    0  ...      0      0      0   \n",
            "2  9  0    0    0    0    0    0    0    0    0  ...      0      0      0   \n",
            "3  5  0    0    0    0    0    0    0    0    0  ...      0      0      0   \n",
            "4  2  0    0    0    0    0    0    0    0    0  ...      0      0      0   \n",
            "\n",
            "   0.584  0.585  0.586  0.587  0.588  0.589  0.590  \n",
            "0      0      0      0      0      0      0      0  \n",
            "1      0      0      0      0      0      0      0  \n",
            "2      0      0      0      0      0      0      0  \n",
            "3      0      0      0      0      0      0      0  \n",
            "4      0      0      0      0      0      0      0  \n",
            "\n",
            "[5 rows x 785 columns]\n",
            "(19999, 785)\n",
            "<class 'pandas.core.frame.DataFrame'>\n",
            "RangeIndex: 19999 entries, 0 to 19998\n",
            "Columns: 785 entries, 6 to 0.590\n",
            "dtypes: int64(785)\n",
            "memory usage: 119.8 MB\n",
            "None\n",
            "                  6        0      0.1      0.2      0.3      0.4      0.5  \\\n",
            "count  19999.000000  19999.0  19999.0  19999.0  19999.0  19999.0  19999.0   \n",
            "mean       4.470124      0.0      0.0      0.0      0.0      0.0      0.0   \n",
            "std        2.892807      0.0      0.0      0.0      0.0      0.0      0.0   \n",
            "min        0.000000      0.0      0.0      0.0      0.0      0.0      0.0   \n",
            "25%        2.000000      0.0      0.0      0.0      0.0      0.0      0.0   \n",
            "50%        4.000000      0.0      0.0      0.0      0.0      0.0      0.0   \n",
            "75%        7.000000      0.0      0.0      0.0      0.0      0.0      0.0   \n",
            "max        9.000000      0.0      0.0      0.0      0.0      0.0      0.0   \n",
            "\n",
            "           0.6      0.7      0.8  ...         0.581         0.582  \\\n",
            "count  19999.0  19999.0  19999.0  ...  19999.000000  19999.000000   \n",
            "mean       0.0      0.0      0.0  ...      0.215011      0.087704   \n",
            "std        0.0      0.0      0.0  ...      6.314821      3.921664   \n",
            "min        0.0      0.0      0.0  ...      0.000000      0.000000   \n",
            "25%        0.0      0.0      0.0  ...      0.000000      0.000000   \n",
            "50%        0.0      0.0      0.0  ...      0.000000      0.000000   \n",
            "75%        0.0      0.0      0.0  ...      0.000000      0.000000   \n",
            "max        0.0      0.0      0.0  ...    253.000000    254.000000   \n",
            "\n",
            "              0.583         0.584         0.585         0.586    0.587  \\\n",
            "count  19999.000000  19999.000000  19999.000000  19999.000000  19999.0   \n",
            "mean       0.036502      0.013651      0.032602      0.006000      0.0   \n",
            "std        2.712527      0.950818      2.718102      0.600333      0.0   \n",
            "min        0.000000      0.000000      0.000000      0.000000      0.0   \n",
            "25%        0.000000      0.000000      0.000000      0.000000      0.0   \n",
            "50%        0.000000      0.000000      0.000000      0.000000      0.0   \n",
            "75%        0.000000      0.000000      0.000000      0.000000      0.0   \n",
            "max      253.000000     79.000000    254.000000     62.000000      0.0   \n",
            "\n",
            "         0.588    0.589    0.590  \n",
            "count  19999.0  19999.0  19999.0  \n",
            "mean       0.0      0.0      0.0  \n",
            "std        0.0      0.0      0.0  \n",
            "min        0.0      0.0      0.0  \n",
            "25%        0.0      0.0      0.0  \n",
            "50%        0.0      0.0      0.0  \n",
            "75%        0.0      0.0      0.0  \n",
            "max        0.0      0.0      0.0  \n",
            "\n",
            "[8 rows x 785 columns]\n",
            "       6  0  0.1  0.2  0.3  0.4  0.5  0.6  0.7  0.8  ...  0.581  0.582  0.583  \\\n",
            "19994  0  0    0    0    0    0    0    0    0    0  ...      0      0      0   \n",
            "19995  1  0    0    0    0    0    0    0    0    0  ...      0      0      0   \n",
            "19996  2  0    0    0    0    0    0    0    0    0  ...      0      0      0   \n",
            "19997  9  0    0    0    0    0    0    0    0    0  ...      0      0      0   \n",
            "19998  5  0    0    0    0    0    0    0    0    0  ...      0      0      0   \n",
            "\n",
            "       0.584  0.585  0.586  0.587  0.588  0.589  0.590  \n",
            "19994      0      0      0      0      0      0      0  \n",
            "19995      0      0      0      0      0      0      0  \n",
            "19996      0      0      0      0      0      0      0  \n",
            "19997      0      0      0      0      0      0      0  \n",
            "19998      0      0      0      0      0      0      0  \n",
            "\n",
            "[5 rows x 785 columns]\n"
          ]
        }
      ]
    },
    {
      "cell_type": "code",
      "source": [
        "import pandas as pd\n",
        "df=pd.read_json(\"/content/sample_data/anscombe.json\")\n",
        "print(df.head())"
      ],
      "metadata": {
        "colab": {
          "base_uri": "https://localhost:8080/"
        },
        "id": "XrbUwS0X2r9T",
        "outputId": "bf1dab94-9a47-4f28-ac62-e0f135e575e5"
      },
      "execution_count": 3,
      "outputs": [
        {
          "output_type": "stream",
          "name": "stdout",
          "text": [
            "  Series   X     Y\n",
            "0      I  10  8.04\n",
            "1      I   8  6.95\n",
            "2      I  13  7.58\n",
            "3      I   9  8.81\n",
            "4      I  11  8.33\n"
          ]
        }
      ]
    },
    {
      "cell_type": "code",
      "source": [
        "import pandas as pd\n",
        "df=pd.read_excel(\"/content/Basic-Data-Entry-and-Formatting.xlsx\")\n",
        "print(df.head())"
      ],
      "metadata": {
        "id": "2pWvKnrA53Um",
        "colab": {
          "base_uri": "https://localhost:8080/"
        },
        "outputId": "5769cc2a-98bc-4424-99cb-a27a63ac6ab7"
      },
      "execution_count": 10,
      "outputs": [
        {
          "output_type": "stream",
          "name": "stdout",
          "text": [
            "            Name         Phone                Email Category\n",
            "0  Alice Johnson  123-456-7890    alice@example.com   Friend\n",
            "1      Bob Smith  987-654-3210      bob@example.com     Work\n",
            "2  Charlie Davis  555-666-7777  charlie@example.com   Family\n"
          ]
        }
      ]
    },
    {
      "cell_type": "markdown",
      "source": [
        "**LAB-2**"
      ],
      "metadata": {
        "id": "j19RBtlmv8QU"
      }
    },
    {
      "cell_type": "code",
      "source": [
        "import pandas as pd\n",
        "import numpy as np\n",
        "\n",
        "Data={\n",
        "    \"Sr.No.\":[1,2,3,4,5,6,7,8,9,10],\n",
        "    \"Name\":[\"Janvi\",\"Ivnaj\",\"Shreya\",\"Anant\",\"Anisha\",\"Raj\",\"Himansh\",\"Rohan\",\"Kiran\",\"Palak\"],\n",
        "    \"Department\":[\"CSE\",\"CSE\",np.nan,\"CS\",\"BCA\",\"DA\",np.nan,np.nan,\"AI\",\"CS\"],\n",
        "    \"Birth Date\":[\"09-02-2007\",\"12-9-2009\",np.nan,\"2006-09-12\",np.nan,\"23-11-9807\",\"11-11-2001\",\"09-09-9009\",\"23-02-2008\",np.nan],\n",
        "    \"Fee Paid\":[1000000,20000,98790,37467,3893738,np.nan,89898,344773,890077,np.nan]\n",
        "}\n",
        "\n",
        "df=pd.DataFrame(Data)\n",
        "print(df)"
      ],
      "metadata": {
        "id": "NIPDtv9tLsCv",
        "colab": {
          "base_uri": "https://localhost:8080/"
        },
        "outputId": "2995fe21-ee91-4757-af3b-4ec3853a527f"
      },
      "execution_count": 11,
      "outputs": [
        {
          "output_type": "stream",
          "name": "stdout",
          "text": [
            "   Sr.No.     Name Department  Birth Date   Fee Paid\n",
            "0       1    Janvi        CSE  09-02-2007  1000000.0\n",
            "1       2    Ivnaj        CSE   12-9-2009    20000.0\n",
            "2       3   Shreya        NaN         NaN    98790.0\n",
            "3       4    Anant         CS  2006-09-12    37467.0\n",
            "4       5   Anisha        BCA         NaN  3893738.0\n",
            "5       6      Raj         DA  23-11-9807        NaN\n",
            "6       7  Himansh        NaN  11-11-2001    89898.0\n",
            "7       8    Rohan        NaN  09-09-9009   344773.0\n",
            "8       9    Kiran         AI  23-02-2008   890077.0\n",
            "9      10    Palak         CS         NaN        NaN\n"
          ]
        }
      ]
    },
    {
      "cell_type": "code",
      "source": [
        "#Missing Values\n",
        "print(\"\\nMissing Values Count:\\n\",df.isnull().sum())\n",
        "\n",
        "#Percentage Missing\n",
        "missing_percentage=df.isnull().mean()*100\n",
        "print(\"\\n%Missing:\\n\",missing_percentage)\n",
        "\n",
        "#Duplicates\n",
        "print(\"\\nDuplicate Rows:\\n\",df.duplicated().sum())\n",
        "\n",
        "#Inconsistent formats(Birth Date check)\n",
        "print(\"\\nBirth Date unique formats:\\n\",df[\"Birth Date\"].unique())"
      ],
      "metadata": {
        "colab": {
          "base_uri": "https://localhost:8080/"
        },
        "id": "04pFg91v3c6t",
        "outputId": "beba6df3-4893-4566-b247-4b872a8f35ae"
      },
      "execution_count": 12,
      "outputs": [
        {
          "output_type": "stream",
          "name": "stdout",
          "text": [
            "\n",
            "Missing Values Count:\n",
            " Sr.No.        0\n",
            "Name          0\n",
            "Department    3\n",
            "Birth Date    3\n",
            "Fee Paid      2\n",
            "dtype: int64\n",
            "\n",
            "%Missing:\n",
            " Sr.No.         0.0\n",
            "Name           0.0\n",
            "Department    30.0\n",
            "Birth Date    30.0\n",
            "Fee Paid      20.0\n",
            "dtype: float64\n",
            "\n",
            "Duplicate Rows:\n",
            " 0\n",
            "\n",
            "Birth Date unique formats:\n",
            " ['09-02-2007' '12-9-2009' nan '2006-09-12' '23-11-9807' '11-11-2001'\n",
            " '09-09-9009' '23-02-2008']\n"
          ]
        }
      ]
    },
    {
      "cell_type": "code",
      "source": [
        "import seaborn as sns\n",
        "import matplotlib.pyplot as plt\n",
        "\n",
        "plt.figure(figsize=(8,5))\n",
        "sns.heatmap(df.isnull(),cbar=False,cmap=\"viridis\")\n",
        "plt.title(\"Missing Data Heatmap\")\n",
        "plt.show()"
      ],
      "metadata": {
        "colab": {
          "base_uri": "https://localhost:8080/",
          "height": 468
        },
        "id": "jx6dGlT8413g",
        "outputId": "605ef736-5f84-4a8c-a7ed-e0b4fdbce5fc"
      },
      "execution_count": 13,
      "outputs": [
        {
          "output_type": "display_data",
          "data": {
            "text/plain": [
              "<Figure size 800x500 with 1 Axes>"
            ],
            "image/png": "[encoded data removed]"
          },
          "metadata": {}
        }
      ]
    },
    {
      "cell_type": "code",
      "source": [
        "#Deletion\n",
        "df_drop=df.dropna()\n",
        "\n",
        "#Mean/Median/Mode\n",
        "df_mean=df.copy()\n",
        "df_mean[\"Fee Paid\"]=df_mean[\"Fee Paid\"].fillna(df_mean[\"Fee Paid\"].mean(),inplace=True)\n",
        "\n",
        "df_median=df.copy()\n",
        "df_median[\"Fee Paid\"]=df_median[\"Fee Paid\"].fillna(df_median[\"Fee Paid\"].median(),inplace=True)\n",
        "\n",
        "df_mode=df.copy()\n",
        "df_mode[\"Department\"]=df_mode[\"Department\"].fillna(df_mode[\"Department\"].mode()[0],inplace=True)\n",
        "\n"
      ],
      "metadata": {
        "id": "8UJ-8eLy50gh",
        "colab": {
          "base_uri": "https://localhost:8080/"
        },
        "outputId": "de2e26a7-9ca8-4450-ab05-76486d3f3917"
      },
      "execution_count": 14,
      "outputs": [
        {
          "output_type": "stream",
          "name": "stderr",
          "text": [
            "/tmp/ipython-input-1203139076.py:6: FutureWarning: A value is trying to be set on a copy of a DataFrame or Series through chained assignment using an inplace method.\n",
            "The behavior will change in pandas 3.0. This inplace method will never work because the intermediate object on which we are setting values always behaves as a copy.\n",
            "\n",
            "For example, when doing 'df[col].method(value, inplace=True)', try using 'df.method({col: value}, inplace=True)' or df[col] = df[col].method(value) instead, to perform the operation inplace on the original object.\n",
            "\n",
            "\n",
            "  df_mean[\"Fee Paid\"]=df_mean[\"Fee Paid\"].fillna(df_mean[\"Fee Paid\"].mean(),inplace=True)\n",
            "/tmp/ipython-input-1203139076.py:9: FutureWarning: A value is trying to be set on a copy of a DataFrame or Series through chained assignment using an inplace method.\n",
            "The behavior will change in pandas 3.0. This inplace method will never work because the intermediate object on which we are setting values always behaves as a copy.\n",
            "\n",
            "For example, when doing 'df[col].method(value, inplace=True)', try using 'df.method({col: value}, inplace=True)' or df[col] = df[col].method(value) instead, to perform the operation inplace on the original object.\n",
            "\n",
            "\n",
            "  df_median[\"Fee Paid\"]=df_median[\"Fee Paid\"].fillna(df_median[\"Fee Paid\"].median(),inplace=True)\n",
            "/tmp/ipython-input-1203139076.py:12: FutureWarning: A value is trying to be set on a copy of a DataFrame or Series through chained assignment using an inplace method.\n",
            "The behavior will change in pandas 3.0. This inplace method will never work because the intermediate object on which we are setting values always behaves as a copy.\n",
            "\n",
            "For example, when doing 'df[col].method(value, inplace=True)', try using 'df.method({col: value}, inplace=True)' or df[col] = df[col].method(value) instead, to perform the operation inplace on the original object.\n",
            "\n",
            "\n",
            "  df_mode[\"Department\"]=df_mode[\"Department\"].fillna(df_mode[\"Department\"].mode()[0],inplace=True)\n"
          ]
        }
      ]
    },
    {
      "cell_type": "markdown",
      "source": [
        "**LAB-3**"
      ],
      "metadata": {
        "id": "Jf9jl9XQYYAH"
      }
    },
    {
      "cell_type": "code",
      "source": [],
      "metadata": {
        "id": "GyzFQNmdYelE"
      },
      "execution_count": null,
      "outputs": []
    }
  ]
}